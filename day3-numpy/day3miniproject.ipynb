{
 "cells": [
  {
   "cell_type": "code",
   "execution_count": 1,
   "id": "667e96fb-d397-4364-8214-1b154d46829d",
   "metadata": {},
   "outputs": [],
   "source": [
    "import numpy as np\n",
    "import pandas as pd"
   ]
  },
  {
   "cell_type": "code",
   "execution_count": 4,
   "id": "451a061f-c78a-46b0-8248-bc65e45cdf8a",
   "metadata": {},
   "outputs": [
    {
     "name": "stdout",
     "output_type": "stream",
     "text": [
      "           close\n",
      "0      44.070000\n",
      "1      44.470001\n",
      "2      44.740002\n",
      "3      44.720001\n",
      "4      44.790001\n",
      "...          ...\n",
      "5210  309.839996\n",
      "5211  310.700012\n",
      "5212  311.000000\n",
      "5213  307.630005\n",
      "5214  306.709991\n",
      "\n",
      "[5215 rows x 1 columns]\n"
     ]
    }
   ],
   "source": [
    "fields = ['close']\n",
    "\n",
    "df = pd.read_csv('gold_price_data.csv', usecols=fields)\n",
    "\n",
    "df.to_numpy()\n",
    "print(df)"
   ]
  },
  {
   "cell_type": "code",
   "execution_count": 5,
   "id": "ddb21f7a-6bb2-41b8-804e-61d14d403f72",
   "metadata": {},
   "outputs": [
    {
     "name": "stdout",
     "output_type": "stream",
     "text": [
      "           close\n",
      "0      44.070000\n",
      "1      44.470001\n",
      "2      44.740002\n",
      "3      44.720001\n",
      "4      44.790001\n",
      "...          ...\n",
      "5210  309.839996\n",
      "5211  310.700012\n",
      "5212  311.000000\n",
      "5213  307.630005\n",
      "5214  306.709991\n",
      "\n",
      "[5215 rows x 1 columns]\n"
     ]
    }
   ],
   "source": [
    "close_col_array = df\n",
    "\n",
    "print(close_col_array)"
   ]
  },
  {
   "cell_type": "code",
   "execution_count": 6,
   "id": "0d007f6f-f143-46eb-a6f8-45c637820dd1",
   "metadata": {},
   "outputs": [
    {
     "name": "stdout",
     "output_type": "stream",
     "text": [
      "mean:  131.25655610915683\n"
     ]
    }
   ],
   "source": [
    "print('mean: ', np.mean(close_col_array))"
   ]
  },
  {
   "cell_type": "code",
   "execution_count": 7,
   "id": "289c3922-1c28-48e1-96e2-d2fe46626dd7",
   "metadata": {},
   "outputs": [
    {
     "name": "stdout",
     "output_type": "stream",
     "text": [
      "median:  123.9800033569336\n"
     ]
    }
   ],
   "source": [
    "print('median: ', np.median(close_col_array))"
   ]
  },
  {
   "cell_type": "code",
   "execution_count": 8,
   "id": "d3fc40ab-0571-4b0f-9ad2-1f191b6673a9",
   "metadata": {},
   "outputs": [
    {
     "name": "stdout",
     "output_type": "stream",
     "text": [
      "std:  close    51.068278\n",
      "dtype: float64\n"
     ]
    },
    {
     "name": "stderr",
     "output_type": "stream",
     "text": [
      "/home/georgina/PycharmProjects/skillssprint2/.venv/lib/python3.12/site-packages/numpy/_core/fromnumeric.py:4062: FutureWarning: The behavior of DataFrame.std with axis=None is deprecated, in a future version this will reduce over both axes and return a scalar. To retain the old behavior, pass axis=0 (or do not pass axis)\n",
      "  return std(axis=axis, dtype=dtype, out=out, ddof=ddof, **kwargs)\n"
     ]
    }
   ],
   "source": [
    "print('std: ', np.std(close_col_array))"
   ]
  },
  {
   "cell_type": "code",
   "execution_count": 9,
   "id": "bfb74d73-4436-4992-abab-d428b98f989a",
   "metadata": {},
   "outputs": [
    {
     "name": "stdout",
     "output_type": "stream",
     "text": [
      "max:  315.0400085449219\n"
     ]
    }
   ],
   "source": [
    "print('max: ', np.max(close_col_array))"
   ]
  },
  {
   "cell_type": "code",
   "execution_count": 10,
   "id": "247b83cc-082a-43f8-b8b6-787dbc5005d6",
   "metadata": {},
   "outputs": [
    {
     "name": "stdout",
     "output_type": "stream",
     "text": [
      "min:  41.02000045776367\n"
     ]
    }
   ],
   "source": [
    "print('min: ', np.min(close_col_array))"
   ]
  },
  {
   "cell_type": "code",
   "execution_count": 11,
   "id": "d42c474d-6089-4a2f-9d7f-ae31b8cbcee8",
   "metadata": {},
   "outputs": [
    {
     "name": "stdout",
     "output_type": "stream",
     "text": [
      "range:  274.0200080871582\n"
     ]
    }
   ],
   "source": [
    "maximum = np.max(close_col_array)\n",
    "minimum = np.min(close_col_array)\n",
    "\n",
    "print('range: ', maximum - minimum)"
   ]
  },
  {
   "cell_type": "code",
   "execution_count": 16,
   "id": "41b047e7-a28f-47be-a36e-f824dbcc92b0",
   "metadata": {},
   "outputs": [
    {
     "name": "stdout",
     "output_type": "stream",
     "text": [
      "date of max:  2025-06-13\n"
     ]
    }
   ],
   "source": [
    "fields = ['date', 'close']\n",
    "\n",
    "\n",
    "dfdatesandclose = pd.read_csv('gold_price_data.csv', usecols=fields)\n",
    "\n",
    "max_close = np.max(dfdatesandclose['close'])\n",
    "\n",
    "print('date of max: ', np.array(dfdatesandclose[dfdatesandclose['close'] == max_close]['date'])[0])"
   ]
  },
  {
   "cell_type": "code",
   "execution_count": 19,
   "id": "4ae47d64-35bd-478e-82c4-4ee0f0e5b753",
   "metadata": {},
   "outputs": [
    {
     "name": "stdout",
     "output_type": "stream",
     "text": [
      "first 30 days:            date       open       high        low      close  adj_close  \\\n",
      "0   2004-11-18  44.380001  44.380001  44.490002  44.070000  44.430000   \n",
      "1   2004-11-19  44.779999  44.779999  44.919998  44.470001  44.490002   \n",
      "2   2004-11-22  44.950001  44.950001  44.970001  44.740002  44.750000   \n",
      "3   2004-11-23  44.750000  44.750000  44.919998  44.720001  44.880001   \n",
      "4   2004-11-24  45.049999  45.049999  45.049999  44.790001  44.930000   \n",
      "5   2004-11-26  45.290001  45.290001  45.599998  45.060001  45.250000   \n",
      "6   2004-11-29  45.400002  45.400002  45.500000  45.080002  45.099998   \n",
      "7   2004-11-30  45.119999  45.119999  45.410000  44.820000  45.369999   \n",
      "8   2004-12-01  45.380001  45.380001  45.590000  45.259998  45.279999   \n",
      "9   2004-12-02  44.950001  44.950001  45.570000  44.680000  45.549999   \n",
      "10  2004-12-03  45.599998  45.599998  46.000000  44.799999  45.040001   \n",
      "11  2004-12-06  45.169998  45.169998  45.470001  45.110001  45.389999   \n",
      "12  2004-12-07  45.110001  45.110001  45.320000  45.070000  45.299999   \n",
      "13  2004-12-08  44.009998  44.009998  44.020000  43.360001  43.799999   \n",
      "14  2004-12-09  43.779999  43.779999  43.900002  43.200001  43.750000   \n",
      "15  2004-12-10  43.439999  43.439999  43.599998  43.310001  43.369999   \n",
      "16  2004-12-13  43.910000  43.910000  44.009998  43.509998  43.610001   \n",
      "17  2004-12-14  43.549999  43.549999  43.799999  43.509998  43.759998   \n",
      "18  2004-12-15  43.990002  43.990002  44.169998  43.919998  44.099998   \n",
      "19  2004-12-16  43.680000  43.680000  44.049999  43.580002  43.990002   \n",
      "20  2004-12-17  44.189999  44.189999  44.220001  43.779999  43.930000   \n",
      "21  2004-12-20  44.340000  44.340000  44.369999  44.130001  44.330002   \n",
      "22  2004-12-21  44.220001  44.220001  44.240002  44.049999  44.130001   \n",
      "23  2004-12-22  44.020000  44.020000  44.230000  43.889999  44.200001   \n",
      "24  2004-12-23  44.270000  44.270000  44.349998  44.049999  44.169998   \n",
      "25  2004-12-27  44.480000  44.480000  44.560001  44.270000  44.290001   \n",
      "26  2004-12-28  44.369999  44.369999  44.470001  44.290001  44.419998   \n",
      "27  2004-12-29  43.660000  43.660000  44.020000  43.349998  43.919998   \n",
      "28  2004-12-30  43.830002  43.830002  43.880001  43.490002  43.500000   \n",
      "29  2004-12-31  43.799999  43.799999  43.939999  43.730000  43.849998   \n",
      "30  2005-01-03  43.020000  43.020000  43.169998  42.740002  42.980000   \n",
      "\n",
      "      volume  \n",
      "0    5992000  \n",
      "1   11655300  \n",
      "2   11996000  \n",
      "3    3169200  \n",
      "4    6105100  \n",
      "5    3097700  \n",
      "6    3759000  \n",
      "7    3857200  \n",
      "8    2037500  \n",
      "9    6457800  \n",
      "10   4218300  \n",
      "11   3102400  \n",
      "12   3797300  \n",
      "13   6148600  \n",
      "14   3553400  \n",
      "15   2464300  \n",
      "16   1445100  \n",
      "17   2240600  \n",
      "18   2641400  \n",
      "19   3269800  \n",
      "20   1889300  \n",
      "21   1942100  \n",
      "22   1373400  \n",
      "23   2705800  \n",
      "24    639800  \n",
      "25   2643500  \n",
      "26    773200  \n",
      "27   5632200  \n",
      "28   1289600  \n",
      "29    531600  \n",
      "30   4750400  \n"
     ]
    }
   ],
   "source": [
    "fulldf = pd.read_csv('gold_price_data.csv')\n",
    "\n",
    "fulldf.to_numpy()\n",
    "\n",
    "print('first 30 days: ', fulldf[0:31])"
   ]
  },
  {
   "cell_type": "code",
   "execution_count": 20,
   "id": "bc63cd3c-38ad-4c61-951e-f48f0eeca76b",
   "metadata": {},
   "outputs": [
    {
     "name": "stdout",
     "output_type": "stream",
     "text": [
      "last 30 days:              date        open        high         low       close   adj_close  \\\n",
      "5184  2025-06-30  304.829987  304.829987  304.920013  301.950012  302.390015   \n",
      "5185  2025-07-01  307.549988  307.549988  309.000000  307.359985  308.559998   \n",
      "5186  2025-07-02  309.250000  309.250000  309.399994  306.959991  308.040009   \n",
      "5187  2025-07-03  307.140015  307.140015  307.570007  306.149994  307.049988   \n",
      "5188  2025-07-07  307.369995  307.369995  307.709991  304.529999  305.070007   \n",
      "5189  2025-07-08  304.160004  304.160004  306.450012  302.769989  306.299988   \n",
      "5190  2025-07-09  305.519989  305.519989  305.540009  303.230011  303.579987   \n",
      "5191  2025-07-10  306.200012  306.200012  306.510010  304.820007  306.109985   \n",
      "5192  2025-07-11  309.140015  309.140015  310.279999  308.519989  308.859985   \n",
      "5193  2025-07-14  308.010010  308.010010  309.380005  307.730011  309.070007   \n",
      "5194  2025-07-15  306.730011  306.730011  308.739990  305.790009  307.730011   \n",
      "5195  2025-07-16  308.260010  308.260010  311.089996  305.730011  307.109985   \n",
      "5196  2025-07-17  307.589996  307.589996  307.670013  305.119995  305.500000   \n",
      "5197  2025-07-18  308.390015  308.390015  309.369995  308.320007  309.239990   \n",
      "5198  2025-07-21  313.130005  313.130005  313.309998  311.609985  311.880005   \n",
      "5199  2025-07-22  316.100006  316.100006  316.239990  313.619995  314.480011   \n",
      "5200  2025-07-23  312.179993  312.179993  314.959991  311.420013  314.000000   \n",
      "5201  2025-07-24  310.269989  310.269989  310.989990  309.059998  309.290009   \n",
      "5202  2025-07-25  307.399994  307.399994  308.309998  306.200012  307.820007   \n",
      "5203  2025-07-28  305.410004  305.410004  306.579987  304.049988  306.440002   \n",
      "5204  2025-07-29  306.250000  306.250000  307.029999  304.989990  305.799988   \n",
      "5205  2025-07-30  300.959991  300.959991  304.649994  300.959991  304.420013   \n",
      "5206  2025-07-31  302.959991  302.959991  304.609985  302.859985  304.589996   \n",
      "5207  2025-08-01  309.109985  309.109985  309.549988  307.450012  308.609985   \n",
      "5208  2025-08-04  310.910004  310.910004  311.739990  310.369995  310.799988   \n",
      "5209  2025-08-05  311.160004  311.160004  312.239990  310.220001  310.369995   \n",
      "5210  2025-08-06  310.500000  310.500000  311.239990  309.839996  310.320007   \n",
      "5211  2025-08-07  313.119995  313.119995  313.140015  310.700012  311.720001   \n",
      "5212  2025-08-08  313.049988  313.049988  313.529999  311.000000  312.350006   \n",
      "5213  2025-08-11  308.549988  308.549988  309.660004  307.630005  308.619995   \n",
      "5214  2025-08-12  308.269989  308.269989  309.309998  306.709991  308.220001   \n",
      "\n",
      "        volume  \n",
      "5184   8192100  \n",
      "5185   9335600  \n",
      "5186   8316400  \n",
      "5187   5275800  \n",
      "5188   7351600  \n",
      "5189  11840500  \n",
      "5190  10644100  \n",
      "5191   7053700  \n",
      "5192   9187300  \n",
      "5193   5772900  \n",
      "5194   8149000  \n",
      "5195  17693100  \n",
      "5196   6642300  \n",
      "5197   5574300  \n",
      "5198  10995800  \n",
      "5199  13691800  \n",
      "5200  10547500  \n",
      "5201   7698800  \n",
      "5202   9376400  \n",
      "5203   9275400  \n",
      "5204   5741100  \n",
      "5205  13459600  \n",
      "5206   8981000  \n",
      "5207  12843400  \n",
      "5208   7639000  \n",
      "5209   6997700  \n",
      "5210   7418200  \n",
      "5211  10891500  \n",
      "5212  19886800  \n",
      "5213  10326700  \n",
      "5214   9697400  \n"
     ]
    }
   ],
   "source": [
    "print('last 30 days: ', fulldf[-31:])"
   ]
  },
  {
   "cell_type": "code",
   "execution_count": 61,
   "id": "c918d4f3-fc76-4a92-a67b-dbf3a4b58d7a",
   "metadata": {},
   "outputs": [
    {
     "name": "stdout",
     "output_type": "stream",
     "text": [
      "0     44.070000\n",
      "1     44.470001\n",
      "2     44.740002\n",
      "3     44.720001\n",
      "4     44.790001\n",
      "5     45.060001\n",
      "6     45.080002\n",
      "7     44.820000\n",
      "8     45.259998\n",
      "9     44.680000\n",
      "10    44.799999\n",
      "11    45.110001\n",
      "12    45.070000\n",
      "13    43.360001\n",
      "14    43.200001\n",
      "15    43.310001\n",
      "16    43.509998\n",
      "17    43.509998\n",
      "18    43.919998\n",
      "19    43.580002\n",
      "20    43.779999\n",
      "21    44.130001\n",
      "22    44.049999\n",
      "23    43.889999\n",
      "24    44.049999\n",
      "25    44.270000\n",
      "26    44.290001\n",
      "27    43.349998\n",
      "28    43.490002\n",
      "29    43.730000\n",
      "30    42.740002\n",
      "Name: close, dtype: float64 31    42.459999\n",
      "32    42.599998\n",
      "33    42.070000\n",
      "34    41.700001\n",
      "35    41.889999\n",
      "36    42.119999\n",
      "37    42.480000\n",
      "38    42.340000\n",
      "39    42.130001\n",
      "40    42.150002\n",
      "41    42.200001\n",
      "42    42.110001\n",
      "43    42.290001\n",
      "44    42.669998\n",
      "45    42.099998\n",
      "46    42.560001\n",
      "47    42.400002\n",
      "48    42.430000\n",
      "49    41.959999\n",
      "50    41.950001\n",
      "51    42.020000\n",
      "52    41.500000\n",
      "53    41.389999\n",
      "54    41.209999\n",
      "55    41.049999\n",
      "56    41.020000\n",
      "57    41.450001\n",
      "58    41.830002\n",
      "59    42.320000\n",
      "60    42.340000\n",
      "61    42.200001\n",
      "Name: close, dtype: float64\n"
     ]
    }
   ],
   "source": [
    "# a = [1, 2, 3, 4, 5, 6, 7, 8]\n",
    "# n = 3\n",
    "\n",
    "# res = np.array_split(a, len(a) // n + (len(a) % n != 0))\n",
    "# res = [list(i) for i in res]\n",
    "# print(res)\n",
    "\n",
    "months = np.array_split(fulldf['close'], len(fulldf) // 30, axis=0)\n",
    "print(months[0], months[1])"
   ]
  },
  {
   "cell_type": "code",
   "execution_count": 60,
   "id": "240189ba-6c65-4652-b0b4-5959017f6e90",
   "metadata": {},
   "outputs": [
    {
     "ename": "ValueError",
     "evalue": "setting an array element with a sequence. The requested array has an inhomogeneous shape after 1 dimensions. The detected shape was (173,) + inhomogeneous part.",
     "output_type": "error",
     "traceback": [
      "\u001b[31m---------------------------------------------------------------------------\u001b[39m",
      "\u001b[31mAttributeError\u001b[39m                            Traceback (most recent call last)",
      "\u001b[36mFile \u001b[39m\u001b[32m~/PycharmProjects/skillssprint2/.venv/lib/python3.12/site-packages/numpy/_core/fromnumeric.py:3604\u001b[39m, in \u001b[36msize\u001b[39m\u001b[34m(a, axis)\u001b[39m\n\u001b[32m   3603\u001b[39m \u001b[38;5;28;01mtry\u001b[39;00m:\n\u001b[32m-> \u001b[39m\u001b[32m3604\u001b[39m     \u001b[38;5;28;01mreturn\u001b[39;00m \u001b[43ma\u001b[49m\u001b[43m.\u001b[49m\u001b[43msize\u001b[49m\n\u001b[32m   3605\u001b[39m \u001b[38;5;28;01mexcept\u001b[39;00m \u001b[38;5;167;01mAttributeError\u001b[39;00m:\n",
      "\u001b[31mAttributeError\u001b[39m: 'list' object has no attribute 'size'",
      "\nDuring handling of the above exception, another exception occurred:\n",
      "\u001b[31mValueError\u001b[39m                                Traceback (most recent call last)",
      "\u001b[36mCell\u001b[39m\u001b[36m \u001b[39m\u001b[32mIn[60]\u001b[39m\u001b[32m, line 14\u001b[39m\n\u001b[32m      1\u001b[39m \u001b[38;5;66;03m# monthly_means_30 = np.mean(monthly_chunks[:-5], axis=1)\u001b[39;00m\n\u001b[32m      2\u001b[39m \u001b[38;5;66;03m# print(monthly_means_30)\u001b[39;00m\n\u001b[32m      3\u001b[39m \n\u001b[32m   (...)\u001b[39m\u001b[32m     10\u001b[39m \u001b[38;5;66;03m# print(month_30_avg)\u001b[39;00m\n\u001b[32m     11\u001b[39m \u001b[38;5;66;03m# print(month_29_avg)\u001b[39;00m\n\u001b[32m---> \u001b[39m\u001b[32m14\u001b[39m sizes = np.array(\u001b[43mnp\u001b[49m\u001b[43m.\u001b[49m\u001b[43msize\u001b[49m\u001b[43m(\u001b[49m\u001b[43mmonths\u001b[49m\u001b[43m)\u001b[49m)\n\u001b[32m     15\u001b[39m \u001b[38;5;28mprint\u001b[39m(sizes)\n",
      "\u001b[36mFile \u001b[39m\u001b[32m~/PycharmProjects/skillssprint2/.venv/lib/python3.12/site-packages/numpy/_core/fromnumeric.py:3606\u001b[39m, in \u001b[36msize\u001b[39m\u001b[34m(a, axis)\u001b[39m\n\u001b[32m   3604\u001b[39m         \u001b[38;5;28;01mreturn\u001b[39;00m a.size\n\u001b[32m   3605\u001b[39m     \u001b[38;5;28;01mexcept\u001b[39;00m \u001b[38;5;167;01mAttributeError\u001b[39;00m:\n\u001b[32m-> \u001b[39m\u001b[32m3606\u001b[39m         \u001b[38;5;28;01mreturn\u001b[39;00m \u001b[43masarray\u001b[49m\u001b[43m(\u001b[49m\u001b[43ma\u001b[49m\u001b[43m)\u001b[49m.size\n\u001b[32m   3607\u001b[39m \u001b[38;5;28;01melse\u001b[39;00m:\n\u001b[32m   3608\u001b[39m     \u001b[38;5;28;01mtry\u001b[39;00m:\n",
      "\u001b[31mValueError\u001b[39m: setting an array element with a sequence. The requested array has an inhomogeneous shape after 1 dimensions. The detected shape was (173,) + inhomogeneous part."
     ]
    }
   ],
   "source": [
    "# monthly_means_30 = np.mean(monthly_chunks[:-5], axis=1)\n",
    "# print(monthly_means_30)\n",
    "\n",
    "# monthly_means_29 = np.mean(monthly_chunks[-5:], axis=1)\n",
    "# print(monthly_means_29)\n",
    "\n",
    "# month_30_avg = np.mean(months[:-15], axis=1)\n",
    "# month_29_avg = np.mean(months[-15:], axis=1)\n",
    "\n",
    "# print(month_30_avg)\n",
    "# print(month_29_avg)\n",
    "\n",
    "\n",
    "sizes = np.array(np.size(months))\n",
    "print(sizes)"
   ]
  }
 ],
 "metadata": {
  "kernelspec": {
   "display_name": "Python 3 (ipykernel)",
   "language": "python",
   "name": "python3"
  },
  "language_info": {
   "codemirror_mode": {
    "name": "ipython",
    "version": 3
   },
   "file_extension": ".py",
   "mimetype": "text/x-python",
   "name": "python",
   "nbconvert_exporter": "python",
   "pygments_lexer": "ipython3",
   "version": "3.12.3"
  }
 },
 "nbformat": 4,
 "nbformat_minor": 5
}
