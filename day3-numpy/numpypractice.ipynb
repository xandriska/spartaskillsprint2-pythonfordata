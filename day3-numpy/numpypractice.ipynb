{
 "cells": [
  {
   "cell_type": "code",
   "execution_count": 3,
   "id": "b93fc58a-f45e-42a7-89f2-1858414c1d8b",
   "metadata": {},
   "outputs": [
    {
     "name": "stdout",
     "output_type": "stream",
     "text": [
      "[1 2 3 4]\n"
     ]
    }
   ],
   "source": [
    "import numpy as np\n",
    "\n",
    "numbers = [1, 2, 3, 4]\n",
    "array = np.array(numbers)\n",
    "\n",
    "print(array)"
   ]
  },
  {
   "cell_type": "code",
   "execution_count": 4,
   "id": "0fe36134-c7ad-4323-a5f7-eab7426cd7bb",
   "metadata": {},
   "outputs": [
    {
     "name": "stdout",
     "output_type": "stream",
     "text": [
      "[2 4 6 8]\n"
     ]
    }
   ],
   "source": [
    "doubled = array * 2\n",
    "print(doubled)"
   ]
  },
  {
   "cell_type": "code",
   "execution_count": 5,
   "id": "9be48a74-5457-4df9-8fc2-4b77ea1d5e80",
   "metadata": {},
   "outputs": [
    {
     "name": "stdout",
     "output_type": "stream",
     "text": [
      "[[0. 0. 0.]\n",
      " [0. 0. 0.]]\n"
     ]
    }
   ],
   "source": [
    "#zeros\n",
    "zeros = np.zeros((2,3))\n",
    "print(zeros)"
   ]
  },
  {
   "cell_type": "code",
   "execution_count": 6,
   "id": "2ad328f7-f100-44cf-b6bd-b0f51d33d6d9",
   "metadata": {},
   "outputs": [
    {
     "name": "stdout",
     "output_type": "stream",
     "text": [
      "[1. 1. 1.]\n"
     ]
    }
   ],
   "source": [
    "#ones\n",
    "ones = np.ones((3,))\n",
    "print(ones)"
   ]
  },
  {
   "cell_type": "code",
   "execution_count": 7,
   "id": "c32252d3-4c5d-4647-a901-a9335632f18d",
   "metadata": {},
   "outputs": [
    {
     "name": "stdout",
     "output_type": "stream",
     "text": [
      "[0 2 4 6 8]\n"
     ]
    }
   ],
   "source": [
    "#range\n",
    "range_array = np.arange(0,10,2)\n",
    "print(range_array)"
   ]
  },
  {
   "cell_type": "code",
   "execution_count": 8,
   "id": "d0e36c4e-a147-42ed-9024-73a03ad25583",
   "metadata": {},
   "outputs": [
    {
     "name": "stdout",
     "output_type": "stream",
     "text": [
      "[1 2 3 4 5 6 7 8 9]\n"
     ]
    }
   ],
   "source": [
    "#array 1-9\n",
    "a = np.array([1, 2, 3, 4, 5, 6, 7, 8, 9])\n",
    "print(a)"
   ]
  },
  {
   "cell_type": "code",
   "execution_count": 10,
   "id": "32a76631-6623-46bf-acba-8584318d5687",
   "metadata": {},
   "outputs": [
    {
     "name": "stdout",
     "output_type": "stream",
     "text": [
      "[[1. 1. 1. 1.]\n",
      " [1. 1. 1. 1.]\n",
      " [1. 1. 1. 1.]\n",
      " [1. 1. 1. 1.]]\n"
     ]
    }
   ],
   "source": [
    "fourones = np.ones((4,4))\n",
    "print(fourones)"
   ]
  },
  {
   "cell_type": "code",
   "execution_count": 12,
   "id": "e7fd9706-03f4-4c68-8738-2bcb964f3ec5",
   "metadata": {},
   "outputs": [
    {
     "name": "stdout",
     "output_type": "stream",
     "text": [
      "[0.         0.02040816 0.04081633 0.06122449 0.08163265 0.10204082\n",
      " 0.12244898 0.14285714 0.16326531 0.18367347 0.20408163 0.2244898\n",
      " 0.24489796 0.26530612 0.28571429 0.30612245 0.32653061 0.34693878\n",
      " 0.36734694 0.3877551  0.40816327 0.42857143 0.44897959 0.46938776\n",
      " 0.48979592 0.51020408 0.53061224 0.55102041 0.57142857 0.59183673\n",
      " 0.6122449  0.63265306 0.65306122 0.67346939 0.69387755 0.71428571\n",
      " 0.73469388 0.75510204 0.7755102  0.79591837 0.81632653 0.83673469\n",
      " 0.85714286 0.87755102 0.89795918 0.91836735 0.93877551 0.95918367\n",
      " 0.97959184 1.        ]\n"
     ]
    }
   ],
   "source": [
    "betweenzeroandone = np.linspace(0,1)\n",
    "print(betweenzeroandone)"
   ]
  },
  {
   "cell_type": "code",
   "execution_count": 17,
   "id": "42a39cab-16ab-45dd-bbb3-c65b75aaa7ff",
   "metadata": {},
   "outputs": [
    {
     "name": "stdout",
     "output_type": "stream",
     "text": [
      "10\n",
      "50\n",
      "[10 20 30]\n",
      "[10 30 50]\n"
     ]
    }
   ],
   "source": [
    "array5 = np.array([10,20,30,40,50])\n",
    "\n",
    "\n",
    "#indexing\n",
    "\n",
    "#get first element\n",
    "print(array5[0])\n",
    "\n",
    "#get last element\n",
    "print(array5[-1])\n",
    "\n",
    "#slicing\n",
    "\n",
    "#first 3\n",
    "print(array5[0:3])\n",
    "\n",
    "#every other element\n",
    "print(array5[::2])"
   ]
  },
  {
   "cell_type": "code",
   "execution_count": 19,
   "id": "961612fd-07ab-419a-91d7-cb2e837eff55",
   "metadata": {},
   "outputs": [
    {
     "name": "stdout",
     "output_type": "stream",
     "text": [
      "[[1 2 3]\n",
      " [4 5 6]\n",
      " [7 8 9]]\n"
     ]
    }
   ],
   "source": [
    "#2d arrays \n",
    "\n",
    "# indexing/slicing \n",
    "\n",
    "matrix = np.array([[1,2,3],[4,5,6],[7,8,9]])\n",
    "print(matrix)"
   ]
  },
  {
   "cell_type": "code",
   "execution_count": 20,
   "id": "1ebb7c12-f14e-4362-8b1c-cd3c281030a4",
   "metadata": {},
   "outputs": [
    {
     "name": "stdout",
     "output_type": "stream",
     "text": [
      "2\n"
     ]
    }
   ],
   "source": [
    "# print element at row 1 col 2\n",
    "\n",
    "print(matrix[0,1])"
   ]
  },
  {
   "cell_type": "code",
   "execution_count": 22,
   "id": "9c4a88b9-aadf-4233-a49c-659e7fe82660",
   "metadata": {},
   "outputs": [
    {
     "name": "stdout",
     "output_type": "stream",
     "text": [
      "[2 5 8]\n"
     ]
    }
   ],
   "source": [
    "#print every second number from every row\n",
    "\n",
    "\n",
    "print(matrix[:,1])\n",
    "# the first position accesses the rows, and it's all of them because ':' gets everything. we want the second element in each row,\n",
    "# which in columns is index 1."
   ]
  },
  {
   "cell_type": "code",
   "execution_count": 23,
   "id": "2c698579-7cc1-444e-9b76-5c909df92e9c",
   "metadata": {},
   "outputs": [
    {
     "name": "stdout",
     "output_type": "stream",
     "text": [
      "[3 6 9]\n"
     ]
    }
   ],
   "source": [
    "# every row, 3rd number\n",
    "\n",
    "print(matrix[:,2])"
   ]
  },
  {
   "cell_type": "code",
   "execution_count": 29,
   "id": "8bf2a2f5-bda6-4fc3-80ff-177c054530ea",
   "metadata": {},
   "outputs": [
    {
     "name": "stdout",
     "output_type": "stream",
     "text": [
      "[ 1  2  3  4  5  6  7  8  9 10]\n"
     ]
    }
   ],
   "source": [
    "slicingarray = np.arange(1,11)\n",
    "print(slicingarray)"
   ]
  },
  {
   "cell_type": "code",
   "execution_count": 31,
   "id": "4fe41eb9-9bfd-490f-b9c7-f82ae17b313a",
   "metadata": {},
   "outputs": [
    {
     "name": "stdout",
     "output_type": "stream",
     "text": [
      "[ 1  2  3  4  5  6  7  8  9 10]\n",
      "[ 6  7  8  9 10]\n"
     ]
    }
   ],
   "source": [
    "print(slicingarray)\n",
    "\n",
    "slicedarray = slicingarray[-5:]\n",
    "print(slicedarray)"
   ]
  },
  {
   "cell_type": "code",
   "execution_count": 36,
   "id": "41730fe6-b703-4048-9a12-103eee751f20",
   "metadata": {},
   "outputs": [
    {
     "name": "stdout",
     "output_type": "stream",
     "text": [
      "[[1 2 3]\n",
      " [4 5 6]]\n"
     ]
    }
   ],
   "source": [
    "print(matrix[:2])\n",
    "#first 2 rows"
   ]
  },
  {
   "cell_type": "code",
   "execution_count": 37,
   "id": "9033c22e-6c26-4494-9d57-8ceb6da8d7d2",
   "metadata": {},
   "outputs": [
    {
     "name": "stdout",
     "output_type": "stream",
     "text": [
      "[[5 6]\n",
      " [8 9]]\n"
     ]
    }
   ],
   "source": [
    "print(matrix[-2:,-2:])\n",
    "#2x2 sub-matrix"
   ]
  },
  {
   "cell_type": "code",
   "execution_count": 40,
   "id": "574aec0e-8d00-4d0d-8397-d97af5a02c99",
   "metadata": {},
   "outputs": [
    {
     "name": "stdout",
     "output_type": "stream",
     "text": [
      "[ 1  2  3  4  5  6  7  8  9 10 11 12]\n"
     ]
    }
   ],
   "source": [
    "#reshaping\n",
    "\n",
    "reshapearray = np.arange(1,13)\n",
    "print(reshapearray)"
   ]
  },
  {
   "cell_type": "code",
   "execution_count": 41,
   "id": "fc8b00f4-9a78-49bf-9910-861c943347aa",
   "metadata": {},
   "outputs": [
    {
     "name": "stdout",
     "output_type": "stream",
     "text": [
      "[[ 1  2  3  4]\n",
      " [ 5  6  7  8]\n",
      " [ 9 10 11 12]]\n"
     ]
    }
   ],
   "source": [
    "reshaped = reshapearray.reshape(3,4)\n",
    "print(reshaped)"
   ]
  },
  {
   "cell_type": "code",
   "execution_count": 42,
   "id": "aa4a3208-c103-4e29-ad53-2e871905b30b",
   "metadata": {},
   "outputs": [
    {
     "name": "stdout",
     "output_type": "stream",
     "text": [
      "[[1 2]\n",
      " [5 6]]\n"
     ]
    }
   ],
   "source": [
    "#extract submatrix top left 2x2\n",
    "\n",
    "print(reshaped[:2, :2])"
   ]
  },
  {
   "cell_type": "code",
   "execution_count": 43,
   "id": "f8c6f0e8-af07-48e1-b56e-1af1d76b63c8",
   "metadata": {},
   "outputs": [
    {
     "name": "stdout",
     "output_type": "stream",
     "text": [
      "[ 1  2  3  4  5  6  7  8  9 10 11 12]\n"
     ]
    }
   ],
   "source": [
    "flat = reshaped.flatten()\n",
    "print(flat)"
   ]
  },
  {
   "cell_type": "code",
   "execution_count": 46,
   "id": "f156c1bb-da10-4855-af92-30eedf2e5610",
   "metadata": {},
   "outputs": [
    {
     "name": "stdout",
     "output_type": "stream",
     "text": [
      "[[ 1  2  3  4]\n",
      " [ 5  6  7  8]\n",
      " [ 9 10 11 12]]\n"
     ]
    }
   ],
   "source": [
    "matrixagain = flat.reshape(3,4)\n",
    "print(matrixagain)"
   ]
  },
  {
   "cell_type": "code",
   "execution_count": 58,
   "id": "f6e677e9-51c1-48b7-abc6-a9a7778ab830",
   "metadata": {},
   "outputs": [
    {
     "name": "stdout",
     "output_type": "stream",
     "text": [
      "[[ 2  3]\n",
      " [ 6  7]\n",
      " [10 11]]\n"
     ]
    }
   ],
   "source": [
    "#middle cols\n",
    "print(matrixagain[:, 1:3])"
   ]
  },
  {
   "cell_type": "code",
   "execution_count": 49,
   "id": "37dda5f6-1515-4213-9269-a5b8d8083649",
   "metadata": {},
   "outputs": [
    {
     "name": "stdout",
     "output_type": "stream",
     "text": [
      "[ 1  2  3  4  5  6  7  8  9 10 11 12]\n"
     ]
    }
   ],
   "source": [
    "flatagain = matrixagain.flatten()\n",
    "print(flatagain)"
   ]
  },
  {
   "cell_type": "code",
   "execution_count": 53,
   "id": "b2864b64-282c-4d80-9a0d-2f27bcd791cd",
   "metadata": {},
   "outputs": [
    {
     "name": "stdout",
     "output_type": "stream",
     "text": [
      "[[ 1  2  3  4  5  6  7  8]\n",
      " [ 9 10 11 12 13 14 15 16]\n",
      " [17 18 19 20 21 22 23 24]\n",
      " [25 26 27 28 29 30 31 32]\n",
      " [33 34 35 36 37 38 39 40]\n",
      " [41 42 43 44 45 46 47 48]\n",
      " [49 50 51 52 53 54 55 56]\n",
      " [57 58 59 60 61 62 63 64]]\n"
     ]
    }
   ],
   "source": [
    "anotherarray = np.arange(1,65)\n",
    "anothermatrix = anotherarray.reshape(8,8)\n",
    "print(anothermatrix)"
   ]
  },
  {
   "cell_type": "code",
   "execution_count": 56,
   "id": "e0fae23c-c729-4d58-8156-3ce3771847dc",
   "metadata": {},
   "outputs": [
    {
     "name": "stdout",
     "output_type": "stream",
     "text": [
      "[[19 20 21 22]\n",
      " [27 28 29 30]\n",
      " [35 36 37 38]\n",
      " [43 44 45 46]\n",
      " [51 52 53 54]\n",
      " [59 60 61 62]]\n"
     ]
    }
   ],
   "source": [
    "print(anothermatrix[2:, 2:6])"
   ]
  },
  {
   "cell_type": "code",
   "execution_count": 57,
   "id": "4781c110-006b-451c-a2ec-e89f43cfb88c",
   "metadata": {},
   "outputs": [
    {
     "name": "stdout",
     "output_type": "stream",
     "text": [
      "[ 1  2  3  4  5  6  7  8  9 10 11 12 13 14 15 16 17 18 19 20 21 22 23 24\n",
      " 25 26 27 28 29 30 31 32 33 34 35 36 37 38 39 40 41 42 43 44 45 46 47 48\n",
      " 49 50 51 52 53 54 55 56 57 58 59 60 61 62 63 64]\n"
     ]
    }
   ],
   "source": [
    "anotherflatarray = anothermatrix.flatten()\n",
    "print(anotherflatarray)"
   ]
  }
 ],
 "metadata": {
  "kernelspec": {
   "display_name": "Python 3 (ipykernel)",
   "language": "python",
   "name": "python3"
  },
  "language_info": {
   "codemirror_mode": {
    "name": "ipython",
    "version": 3
   },
   "file_extension": ".py",
   "mimetype": "text/x-python",
   "name": "python",
   "nbconvert_exporter": "python",
   "pygments_lexer": "ipython3",
   "version": "3.12.3"
  }
 },
 "nbformat": 4,
 "nbformat_minor": 5
}
