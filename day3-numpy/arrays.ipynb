{
 "cells": [
  {
   "cell_type": "code",
   "execution_count": 1,
   "id": "37dc578a-ae1f-4fe4-b0c3-bd9882a7f2dd",
   "metadata": {},
   "outputs": [],
   "source": [
    "import numpy as np"
   ]
  },
  {
   "cell_type": "code",
   "execution_count": 2,
   "id": "e940717a-bd50-4248-9ded-68e544c378c2",
   "metadata": {},
   "outputs": [
    {
     "name": "stdout",
     "output_type": "stream",
     "text": [
      "[1 2 3 4] [10 20 30 40]\n"
     ]
    }
   ],
   "source": [
    "a = np.array([1,2,3,4])\n",
    "b = np.array([10,20,30,40])\n",
    "\n",
    "print(a,b)"
   ]
  },
  {
   "cell_type": "code",
   "execution_count": 7,
   "id": "fbaf6d90-2535-4aa3-9f55-ea00c12af940",
   "metadata": {},
   "outputs": [
    {
     "name": "stdout",
     "output_type": "stream",
     "text": [
      "add arrays [11 22 33 44]\n",
      "subtract arrays [ -9 -18 -27 -36]\n",
      "multiply arrays [ 10  40  90 160]\n",
      "square root [1.         1.41421356 1.73205081 2.        ]\n",
      "exponential [2.20264658e+04 4.85165195e+08 1.06864746e+13 2.35385267e+17]\n"
     ]
    }
   ],
   "source": [
    "#mathematical operations\n",
    "\n",
    "# addition\n",
    "print('add arrays', a + b)\n",
    "# subtraction\n",
    "print('subtract arrays', a - b)\n",
    "# multiplication\n",
    "print('multiply arrays', a * b)\n",
    "\n",
    "# universal funcs\n",
    "\n",
    "print('square root', np.sqrt(a))\n",
    "\n",
    "# exponential\n",
    "\n",
    "print('exponential', np.exp(b))"
   ]
  },
  {
   "cell_type": "code",
   "execution_count": 14,
   "id": "c9eaf7e0-10a0-46c3-bcd9-5034f4908bc4",
   "metadata": {},
   "outputs": [
    {
     "name": "stdout",
     "output_type": "stream",
     "text": [
      "add [ 7 14 21]\n",
      "subtract [3 6 9]\n",
      "multiply [10 40 90]\n",
      "divide [2.5 2.5 2.5]\n",
      "arr1 cubed [ 125 1000 3375]\n"
     ]
    }
   ],
   "source": [
    "arr1 = np.array([5,10,15])\n",
    "arr2 = np.array([2,4,6])\n",
    "\n",
    "print('add', arr1 + arr2)\n",
    "\n",
    "print('subtract', arr1 - arr2)\n",
    "\n",
    "print('multiply', arr1 * arr2)\n",
    "\n",
    "print('divide', arr1 / arr2)\n",
    "\n",
    "print('arr1 cubed', arr1 ** 3)\n",
    "\n"
   ]
  },
  {
   "cell_type": "code",
   "execution_count": 16,
   "id": "d53f9f68-5ccf-409d-8e36-c7c7829db1ad",
   "metadata": {},
   "outputs": [
    {
     "name": "stdout",
     "output_type": "stream",
     "text": [
      "arr + 10 [11 12 13 14 15]\n"
     ]
    }
   ],
   "source": [
    "# broadcasting\n",
    "\n",
    "arraybc = np.array([1,2,3,4,5])\n",
    "\n",
    "print('arr + 10', arraybc + 10)\n",
    "#broadcasting adds the number to each element in the array."
   ]
  },
  {
   "cell_type": "code",
   "execution_count": 19,
   "id": "4bf2ea25-961d-413e-9223-b3850790f742",
   "metadata": {},
   "outputs": [
    {
     "name": "stdout",
     "output_type": "stream",
     "text": [
      "[[1 2 3]\n",
      " [4 5 6]]\n"
     ]
    }
   ],
   "source": [
    "matrix = np.array([[1,2,3],[4,5,6]])\n",
    "print(matrix)"
   ]
  },
  {
   "cell_type": "code",
   "execution_count": 22,
   "id": "93e646e9-a55d-4275-a63e-2e51d831ac2a",
   "metadata": {},
   "outputs": [
    {
     "name": "stdout",
     "output_type": "stream",
     "text": [
      "[[11 22 33]\n",
      " [14 25 36]]\n"
     ]
    }
   ],
   "source": [
    "# add new array 10,20,30 to the mat\n",
    "\n",
    "# adds 10 to 1, 20 to 2, 30 to 3.\n",
    "# then adds 10 to 4, 20 to 5, and 30 to 6.\n",
    "print(matrix + np.array([10,20,30]))"
   ]
  },
  {
   "cell_type": "code",
   "execution_count": 30,
   "id": "b87c799c-0184-4f85-98e7-b7c3184fbbbb",
   "metadata": {},
   "outputs": [
    {
     "name": "stdout",
     "output_type": "stream",
     "text": [
      "[1. 2. 3. 4.]\n"
     ]
    }
   ],
   "source": [
    "arrtomul = np.array([2,4,6,8])\n",
    "\n",
    "print(arrtomul * 0.5)\n",
    "\n"
   ]
  },
  {
   "cell_type": "code",
   "execution_count": 25,
   "id": "9458c3e3-0feb-4483-a6b1-31ffa19bf687",
   "metadata": {},
   "outputs": [
    {
     "name": "stdout",
     "output_type": "stream",
     "text": [
      "[[0. 0. 0.]\n",
      " [0. 0. 0.]\n",
      " [0. 0. 0.]]\n"
     ]
    }
   ],
   "source": [
    "threebythree = np.zeros((3,3))\n",
    "print(threebythree)"
   ]
  },
  {
   "cell_type": "code",
   "execution_count": 27,
   "id": "aae5d9bd-14ae-479b-b15b-d402d2dc9e64",
   "metadata": {},
   "outputs": [
    {
     "name": "stdout",
     "output_type": "stream",
     "text": [
      "[[1. 2. 3.]\n",
      " [1. 2. 3.]\n",
      " [1. 2. 3.]]\n"
     ]
    }
   ],
   "source": [
    "addnums = threebythree + np.array([1,2,3])\n",
    "print(addnums)"
   ]
  },
  {
   "cell_type": "code",
   "execution_count": 32,
   "id": "b913dfca-3296-4a74-b08c-996d4a9e9061",
   "metadata": {},
   "outputs": [
    {
     "name": "stdout",
     "output_type": "stream",
     "text": [
      "[[11. 11. 11.]\n",
      " [11. 11. 11.]]\n"
     ]
    }
   ],
   "source": [
    "addnums2 = np.ones((2,3))\n",
    "\n",
    "print(addnums2 + 10)\n",
    "\n"
   ]
  },
  {
   "cell_type": "code",
   "execution_count": 33,
   "id": "57d9af69-7bc9-49a4-9df4-f40f96366650",
   "metadata": {},
   "outputs": [
    {
     "name": "stdout",
     "output_type": "stream",
     "text": [
      "[1 5 2 1 3 2 6 5 5 3]\n"
     ]
    }
   ],
   "source": [
    "# create random ints\n",
    "\n",
    "dice = np.random.randint(1,7, size=10)\n",
    "print(dice)\n"
   ]
  },
  {
   "cell_type": "code",
   "execution_count": 36,
   "id": "4705dbc0-d1a3-42cc-a26f-2dc222d6e62d",
   "metadata": {},
   "outputs": [
    {
     "name": "stdout",
     "output_type": "stream",
     "text": [
      "[3 4 4 3 5 4 4 2 5 5 4 2 5 6 6 4 1 4 3 3]\n",
      "1\n",
      "6\n"
     ]
    }
   ],
   "source": [
    "dicerolls = np.random.randint(1,7, size=20)\n",
    "\n",
    "print(dicerolls)\n",
    "print(np.min(dicerolls))\n",
    "print(np.max(dicerolls))"
   ]
  },
  {
   "cell_type": "code",
   "execution_count": 42,
   "id": "e295a025-028c-4158-be73-edf13330c167",
   "metadata": {},
   "outputs": [
    {
     "name": "stdout",
     "output_type": "stream",
     "text": [
      "[5.21543767 2.703864   5.18451308 2.43469669 8.1284405  7.71616569\n",
      " 4.15871238 6.42316564 9.0017796  0.1618855 ]\n"
     ]
    }
   ],
   "source": [
    "ranfloats = np.random.uniform(low=0, high=10, size=10)\n",
    "print(ranfloats)"
   ]
  },
  {
   "cell_type": "code",
   "execution_count": 49,
   "id": "d6325992-a8a1-40f1-8275-1b14bbe8b58a",
   "metadata": {},
   "outputs": [
    {
     "name": "stdout",
     "output_type": "stream",
     "text": [
      "[0.17944619 0.31723939 0.36182353 0.92563429 0.33985836 0.80551159\n",
      " 0.8224778  0.64162064 0.00794132 0.17123699]\n"
     ]
    }
   ],
   "source": [
    "moreranfloats = np.random.rand(1000)\n",
    "print(moreranfloats[0:10])"
   ]
  },
  {
   "cell_type": "code",
   "execution_count": 50,
   "id": "5d688211-3d57-47c7-81ac-5483750f1855",
   "metadata": {},
   "outputs": [
    {
     "name": "stdout",
     "output_type": "stream",
     "text": [
      "[1 5 4 2 3 5 2 6 3 4 4 1 1 1 1 1 2 5 5 6 5 1 5 3 2 5 3 1 6 2 2 6 3 5 3 1 5\n",
      " 4 5 1 3 5 6 5 3 3 3 5 1 3]\n"
     ]
    }
   ],
   "source": [
    "dice = np.random.randint(1, 7, size=50)\n",
    "print(dice)"
   ]
  },
  {
   "cell_type": "code",
   "execution_count": 51,
   "id": "0861abc0-e9ea-438a-9fcd-3eeca736ef21",
   "metadata": {},
   "outputs": [
    {
     "name": "stdout",
     "output_type": "stream",
     "text": [
      "sum:  167\n"
     ]
    }
   ],
   "source": [
    "print('sum: ', np.sum(dice))"
   ]
  },
  {
   "cell_type": "code",
   "execution_count": 52,
   "id": "d3d0f7fd-25ef-499f-8d2a-3f64b5180b80",
   "metadata": {},
   "outputs": [
    {
     "name": "stdout",
     "output_type": "stream",
     "text": [
      "mean:  3.34\n"
     ]
    }
   ],
   "source": [
    "print('mean: ', np.mean(dice))"
   ]
  },
  {
   "cell_type": "code",
   "execution_count": 53,
   "id": "a771849e-fb07-4f8c-ae60-1f1e92a0fe11",
   "metadata": {},
   "outputs": [
    {
     "name": "stdout",
     "output_type": "stream",
     "text": [
      "median:  3.0\n"
     ]
    }
   ],
   "source": [
    "print('median: ', np.median(dice))"
   ]
  },
  {
   "cell_type": "code",
   "execution_count": 54,
   "id": "76ec8111-94f9-4ff5-9fec-bc4dc27b4021",
   "metadata": {},
   "outputs": [
    {
     "name": "stdout",
     "output_type": "stream",
     "text": [
      "standard deviation:  1.7042300314218148\n"
     ]
    }
   ],
   "source": [
    "print('standard deviation: ', np.std(dice))"
   ]
  },
  {
   "cell_type": "code",
   "execution_count": 55,
   "id": "3a49da40-6995-4eb3-a749-fba5649324b9",
   "metadata": {},
   "outputs": [
    {
     "name": "stdout",
     "output_type": "stream",
     "text": [
      "min:  1\n",
      "max:  6\n"
     ]
    }
   ],
   "source": [
    "print('min: ', np.min(dice))\n",
    "print('max: ', np.max(dice))"
   ]
  },
  {
   "cell_type": "code",
   "execution_count": null,
   "id": "1f7f44fa-1572-4b25-897b-6a7d53fdcbc2",
   "metadata": {},
   "outputs": [],
   "source": []
  }
 ],
 "metadata": {
  "kernelspec": {
   "display_name": "Python 3 (ipykernel)",
   "language": "python",
   "name": "python3"
  },
  "language_info": {
   "codemirror_mode": {
    "name": "ipython",
    "version": 3
   },
   "file_extension": ".py",
   "mimetype": "text/x-python",
   "name": "python",
   "nbconvert_exporter": "python",
   "pygments_lexer": "ipython3",
   "version": "3.12.3"
  }
 },
 "nbformat": 4,
 "nbformat_minor": 5
}
