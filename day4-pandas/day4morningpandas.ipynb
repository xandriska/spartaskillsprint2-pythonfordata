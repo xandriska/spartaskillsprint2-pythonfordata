{
 "cells": [
  {
   "cell_type": "code",
   "execution_count": 1,
   "id": "07dc404b-2dd2-430c-b6ef-66e68c93def2",
   "metadata": {},
   "outputs": [],
   "source": [
    "import pandas as pd"
   ]
  },
  {
   "cell_type": "code",
   "execution_count": 2,
   "id": "9a15d270-3ac1-4493-88ae-a865208fff08",
   "metadata": {},
   "outputs": [
    {
     "name": "stdout",
     "output_type": "stream",
     "text": [
      "0    10\n",
      "1    20\n",
      "2    30\n",
      "3    40\n",
      "4    50\n",
      "dtype: int64\n"
     ]
    }
   ],
   "source": [
    "#pandas series - 1D\n",
    "# can access: values, index\n",
    "\n",
    "data = [10,20,30,40,50]\n",
    "\n",
    "series1 = pd.Series(data)\n",
    "print(series1)"
   ]
  },
  {
   "cell_type": "code",
   "execution_count": 4,
   "id": "ddee3f14-0b75-4631-8f31-089c487a8a35",
   "metadata": {},
   "outputs": [
    {
     "name": "stdout",
     "output_type": "stream",
     "text": [
      "[10 20 30 40 50]\n"
     ]
    }
   ],
   "source": [
    "print(series1.values) #values"
   ]
  },
  {
   "cell_type": "code",
   "execution_count": 5,
   "id": "36075f9a-c7ae-4dd2-b727-f9416be50c41",
   "metadata": {},
   "outputs": [
    {
     "name": "stdout",
     "output_type": "stream",
     "text": [
      "RangeIndex(start=0, stop=5, step=1)\n"
     ]
    }
   ],
   "source": [
    "print(series1.index) #indexes"
   ]
  },
  {
   "cell_type": "code",
   "execution_count": 12,
   "id": "0e105a65-dbf9-4381-9725-ee87ac08d428",
   "metadata": {},
   "outputs": [
    {
     "name": "stdout",
     "output_type": "stream",
     "text": [
      "72\n",
      "11\n"
     ]
    }
   ],
   "source": [
    "temps = [25, 38, 47, 72, 11]\n",
    "\n",
    "tempseries = pd.Series(temps)\n",
    "\n",
    "print(tempseries.max())\n",
    "print(tempseries.min())"
   ]
  },
  {
   "cell_type": "code",
   "execution_count": 14,
   "id": "0d3b1743-7694-4e44-9cf3-d2fadfd49181",
   "metadata": {},
   "outputs": [
    {
     "name": "stdout",
     "output_type": "stream",
     "text": [
      "Index(['Mon', 'Tues', 'Weds', 'Thurs', 'Fri'], dtype='object')\n"
     ]
    }
   ],
   "source": [
    "tempseries.index = ['Mon', 'Tues', 'Weds', 'Thurs', 'Fri'] # change indexes. has to have same number of indices\n",
    "\n",
    "print(tempseries.index)"
   ]
  },
  {
   "cell_type": "code",
   "execution_count": 15,
   "id": "8cfd1029-d2df-46ee-8db4-17010fa0ea8d",
   "metadata": {},
   "outputs": [
    {
     "name": "stdout",
     "output_type": "stream",
     "text": [
      "Mon      25\n",
      "Tues     38\n",
      "Weds     47\n",
      "Thurs    72\n",
      "Fri      11\n",
      "dtype: int64\n"
     ]
    }
   ],
   "source": [
    "print(tempseries)"
   ]
  },
  {
   "cell_type": "code",
   "execution_count": 17,
   "id": "caed7414-4f81-4dee-82ab-d7c35c6d7d08",
   "metadata": {},
   "outputs": [
    {
     "name": "stdout",
     "output_type": "stream",
     "text": [
      "      name  age       city\n",
      "0    ollie   32    reading\n",
      "1      sam   27     london\n",
      "2     luke   27      north\n",
      "3   morgan   32  australia\n",
      "4  minerva   12       mars\n"
     ]
    }
   ],
   "source": [
    "#dataframes\n",
    "\n",
    "data = {\n",
    "    'name': ['ollie', 'sam', 'luke', 'morgan', 'minerva'],\n",
    "    'age': [32, 27, 27, 32, 12],\n",
    "    'city': ['reading', 'london', 'north', 'australia', 'mars'] \n",
    "}\n",
    "\n",
    "df = pd.DataFrame(data)\n",
    "\n",
    "print(df)"
   ]
  },
  {
   "cell_type": "code",
   "execution_count": 19,
   "id": "3aac93d5-9fb6-4f50-8bb7-2e5019b50afc",
   "metadata": {},
   "outputs": [
    {
     "name": "stdout",
     "output_type": "stream",
     "text": [
      "              name  price  quantity\n",
      "0  white chocolate    2.5        57\n",
      "1   dark chocolate    4.9      2000\n",
      "2   milk chocolate    3.2        25\n"
     ]
    }
   ],
   "source": [
    "data2 = {\n",
    "    'name': ['white chocolate', 'dark chocolate', 'milk chocolate'],\n",
    "    'price': [2.5, 4.9, 3.2],\n",
    "    'quantity': [57, 2000, 25]\n",
    "}\n",
    "\n",
    "dfchoc = pd.DataFrame(data2)\n",
    "print(dfchoc)"
   ]
  },
  {
   "cell_type": "code",
   "execution_count": 24,
   "id": "aab00c70-9566-42d4-bcf2-6f0c5e1526b1",
   "metadata": {},
   "outputs": [
    {
     "ename": "ValueError",
     "evalue": "cannot insert colour, already exists",
     "output_type": "error",
     "traceback": [
      "\u001b[31m---------------------------------------------------------------------------\u001b[39m",
      "\u001b[31mValueError\u001b[39m                                Traceback (most recent call last)",
      "\u001b[32m/tmp/ipykernel_295384/4122425406.py\u001b[39m in \u001b[36m?\u001b[39m\u001b[34m()\u001b[39m\n\u001b[32m----> \u001b[39m\u001b[32m1\u001b[39m dfchoc.insert(\u001b[32m3\u001b[39m, \u001b[33m'colour'\u001b[39m, [\u001b[33m'ivory'\u001b[39m, \u001b[33m'dark brown'\u001b[39m, \u001b[33m'medium brown'\u001b[39m])\n",
      "\u001b[32m~/PycharmProjects/skillssprint2/.venv/lib/python3.12/site-packages/pandas/core/frame.py\u001b[39m in \u001b[36m?\u001b[39m\u001b[34m(self, loc, column, value, allow_duplicates)\u001b[39m\n\u001b[32m   5161\u001b[39m                 \u001b[33m\"'self.flags.allows_duplicate_labels' is False.\"\u001b[39m\n\u001b[32m   5162\u001b[39m             )\n\u001b[32m   5163\u001b[39m         \u001b[38;5;28;01mif\u001b[39;00m \u001b[38;5;28;01mnot\u001b[39;00m allow_duplicates \u001b[38;5;28;01mand\u001b[39;00m column \u001b[38;5;28;01min\u001b[39;00m self.columns:\n\u001b[32m   5164\u001b[39m             \u001b[38;5;66;03m# Should this be a different kind of error??\u001b[39;00m\n\u001b[32m-> \u001b[39m\u001b[32m5165\u001b[39m             \u001b[38;5;28;01mraise\u001b[39;00m ValueError(f\"cannot insert {column}, already exists\")\n\u001b[32m   5166\u001b[39m         \u001b[38;5;28;01mif\u001b[39;00m \u001b[38;5;28;01mnot\u001b[39;00m is_integer(loc):\n\u001b[32m   5167\u001b[39m             \u001b[38;5;28;01mraise\u001b[39;00m TypeError(\u001b[33m\"loc must be int\"\u001b[39m)\n\u001b[32m   5168\u001b[39m         \u001b[38;5;66;03m# convert non stdlib ints to satisfy typing checks\u001b[39;00m\n",
      "\u001b[31mValueError\u001b[39m: cannot insert colour, already exists"
     ]
    }
   ],
   "source": [
    "#dfchoc.insert(3, 'colour', ['ivory', 'dark brown', 'medium brown'])"
   ]
  },
  {
   "cell_type": "code",
   "execution_count": 25,
   "id": "04c249f3-060f-4699-9427-f00e41a4ecc6",
   "metadata": {},
   "outputs": [
    {
     "name": "stdout",
     "output_type": "stream",
     "text": [
      "              name  price  quantity        colour  total value\n",
      "0  white chocolate    2.5        57         ivory        142.5\n",
      "1   dark chocolate    4.9      2000    dark brown       9800.0\n",
      "2   milk chocolate    3.2        25  medium brown         80.0\n"
     ]
    }
   ],
   "source": [
    "dfchoc['total value'] = dfchoc['price'] * dfchoc['quantity']\n",
    "\n",
    "print(dfchoc)"
   ]
  }
 ],
 "metadata": {
  "kernelspec": {
   "display_name": "Python 3 (ipykernel)",
   "language": "python",
   "name": "python3"
  },
  "language_info": {
   "codemirror_mode": {
    "name": "ipython",
    "version": 3
   },
   "file_extension": ".py",
   "mimetype": "text/x-python",
   "name": "python",
   "nbconvert_exporter": "python",
   "pygments_lexer": "ipython3",
   "version": "3.12.3"
  }
 },
 "nbformat": 4,
 "nbformat_minor": 5
}
