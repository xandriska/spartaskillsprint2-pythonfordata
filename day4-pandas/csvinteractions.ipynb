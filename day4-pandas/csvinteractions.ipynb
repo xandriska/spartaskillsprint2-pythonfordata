{
 "cells": [
  {
   "cell_type": "code",
   "execution_count": 1,
   "id": "f53690d8-fa21-4d53-b20c-7fcb410bdc48",
   "metadata": {},
   "outputs": [],
   "source": [
    "import pandas as pd"
   ]
  },
  {
   "cell_type": "code",
   "execution_count": 2,
   "id": "69743055-9b6c-4dbf-8ae8-dbcb9ac8161c",
   "metadata": {},
   "outputs": [
    {
     "name": "stdout",
     "output_type": "stream",
     "text": [
      "       Name      School Grade  Score\n",
      "0  Student1   West High     A     92\n",
      "1  Student2  South High     F      6\n",
      "2  Student3  North High     D     64\n",
      "3  Student4   West High     B     88\n",
      "4  Student5   West High     A     96\n"
     ]
    }
   ],
   "source": [
    "df = pd.read_csv('students_with_scores.csv')\n",
    "\n",
    "# inspect first 5 rows\n",
    "\n",
    "print(df.head())"
   ]
  },
  {
   "cell_type": "code",
   "execution_count": 3,
   "id": "3802a305-3b40-48a6-9ee8-d330a9692e5d",
   "metadata": {},
   "outputs": [
    {
     "name": "stdout",
     "output_type": "stream",
     "text": [
      "         Name      School Grade  Score\n",
      "15  Student16  North High     C     76\n",
      "16  Student17  South High     A     97\n",
      "17  Student18  South High     C     72\n",
      "18  Student19  South High     C     70\n",
      "19  Student20   West High     A     93\n"
     ]
    }
   ],
   "source": [
    "print(df.tail())"
   ]
  },
  {
   "cell_type": "code",
   "execution_count": 8,
   "id": "1c8fefad-72a2-4681-9bfd-9f54b00ce33f",
   "metadata": {},
   "outputs": [
    {
     "name": "stdout",
     "output_type": "stream",
     "text": [
      "(20, 4)\n",
      "Index(['Name', 'School', 'Grade', 'Score'], dtype='object')\n",
      "           Score\n",
      "count  20.000000\n",
      "mean   80.050000\n",
      "std    19.789617\n",
      "min     6.000000\n",
      "25%    77.500000\n",
      "50%    83.000000\n",
      "75%    91.250000\n",
      "max    99.000000\n",
      "<class 'pandas.core.frame.DataFrame'>\n",
      "RangeIndex: 20 entries, 0 to 19\n",
      "Data columns (total 4 columns):\n",
      " #   Column  Non-Null Count  Dtype \n",
      "---  ------  --------------  ----- \n",
      " 0   Name    20 non-null     object\n",
      " 1   School  20 non-null     object\n",
      " 2   Grade   20 non-null     object\n",
      " 3   Score   20 non-null     int64 \n",
      "dtypes: int64(1), object(3)\n",
      "memory usage: 772.0+ bytes\n",
      "None\n"
     ]
    }
   ],
   "source": [
    "#check shape\n",
    "print(df.shape)\n",
    "\n",
    "#check col names\n",
    "print(df.columns)\n",
    "\n",
    "#check summary stats\n",
    "print(df.describe())\n",
    "\n",
    "#data types, missing values\n",
    "print(df.info())"
   ]
  },
  {
   "cell_type": "code",
   "execution_count": 16,
   "id": "4eb7e17c-524b-4052-b582-89ffcb425a8d",
   "metadata": {},
   "outputs": [
    {
     "name": "stdout",
     "output_type": "stream",
     "text": [
      "Name       Student1\n",
      "School    West High\n",
      "Grade             A\n",
      "Score            92\n",
      "Name: 0, dtype: object\n",
      "       Name      School Grade  Score\n",
      "0  Student1   West High     A     92\n",
      "1  Student2  South High     F      6\n",
      "2  Student3  North High     D     64\n",
      "       Name Grade\n",
      "0  Student1     A\n",
      "1  Student2     F\n",
      "2  Student3     D\n"
     ]
    }
   ],
   "source": [
    "# indexing using .loc and .iloc\n",
    "\n",
    "# single col\n",
    "\n",
    "#print(df['Name'])\n",
    "\n",
    "# multiple cols\n",
    "\n",
    "#print(df[['Name', 'School']]) # two square brackets to index multiple cols\n",
    "\n",
    "# row by label using loc\n",
    "\n",
    "print(df.loc[0])\n",
    "\n",
    "# specific rows and cols\n",
    "\n",
    "print(df.loc[0:2]) # first 3 students (rows & cols) \n",
    "\n",
    "print(df.loc[0:2, ['Name', 'Grade']])\n",
    "\n",
    "# .loc uses names, and IS INCLUSIVE!!!!!!!!!"
   ]
  },
  {
   "cell_type": "code",
   "execution_count": 17,
   "id": "9d7650e7-018a-43ba-99e5-71cd8d87994f",
   "metadata": {},
   "outputs": [
    {
     "name": "stdout",
     "output_type": "stream",
     "text": [
      "       Name      School\n",
      "0  Student1   West High\n",
      "1  Student2  South High\n"
     ]
    }
   ],
   "source": [
    "# iloc - index/integer based row retrieval\n",
    "\n",
    "# specify rows and cols\n",
    "\n",
    "# not inclusive!!!!!!!\n",
    "\n",
    "print(df.iloc[0:2, 0:2])\n",
    "\n"
   ]
  },
  {
   "cell_type": "code",
   "execution_count": null,
   "id": "a9223e05-5098-45ec-ab3d-522fb5411be2",
   "metadata": {},
   "outputs": [],
   "source": []
  },
  {
   "cell_type": "code",
   "execution_count": 18,
   "id": "9961c305-2142-477e-9560-a206d74203b7",
   "metadata": {},
   "outputs": [
    {
     "name": "stdout",
     "output_type": "stream",
     "text": [
      "       Name  Score\n",
      "0  Student1     92\n",
      "1  Student2      6\n",
      "2  Student3     64\n"
     ]
    }
   ],
   "source": [
    "# names & scores of 1st three students\n",
    "\n",
    "print(df.loc[0:2, ['Name', 'Score']])"
   ]
  },
  {
   "cell_type": "code",
   "execution_count": 23,
   "id": "dd472322-8e8d-420c-be49-216ee1558a5b",
   "metadata": {},
   "outputs": [
    {
     "name": "stdout",
     "output_type": "stream",
     "text": [
      "         Name     School Grade  Score\n",
      "0    Student1  West High     A     92\n",
      "3    Student4  West High     B     88\n",
      "4    Student5  West High     A     96\n",
      "8    Student9  West High     B     81\n",
      "10  Student11  West High     C     78\n",
      "11  Student12  West High     A     99\n",
      "12  Student13  West High     B     84\n",
      "13  Student14  West High     B     81\n",
      "19  Student20  West High     A     93\n"
     ]
    }
   ],
   "source": [
    "# all students from a specific school\n",
    "\n",
    "print(df.loc[df['School'] == 'West High'])"
   ]
  },
  {
   "cell_type": "code",
   "execution_count": 53,
   "id": "9c50cc9c-a80c-4292-b7b0-1089982c681f",
   "metadata": {},
   "outputs": [
    {
     "name": "stdout",
     "output_type": "stream",
     "text": [
      "18    70\n",
      "19    93\n",
      "Name: Score, dtype: int64\n"
     ]
    }
   ],
   "source": [
    "# scores of last 2 students\n",
    "\n",
    "print(df.iloc[-2:, df.columns.get_loc('Score')])"
   ]
  },
  {
   "cell_type": "code",
   "execution_count": 34,
   "id": "4febb44c-474a-4e75-8931-e15ce48e8815",
   "metadata": {},
   "outputs": [
    {
     "name": "stdout",
     "output_type": "stream",
     "text": [
      "         Name      School Grade  Score\n",
      "11  Student12   West High     A     99\n",
      "16  Student17  South High     A     97\n",
      "4    Student5   West High     A     96\n",
      "19  Student20   West High     A     93\n",
      "0    Student1   West High     A     92\n",
      "5    Student6  South High     A     91\n",
      "9   Student10   East High     B     89\n",
      "3    Student4   West High     B     88\n",
      "12  Student13   West High     B     84\n",
      "6    Student7  North High     B     83\n",
      "14  Student15  South High     B     83\n",
      "13  Student14   West High     B     81\n",
      "8    Student9   West High     B     81\n",
      "7    Student8  North High     C     78\n",
      "10  Student11   West High     C     78\n",
      "15  Student16  North High     C     76\n",
      "17  Student18  South High     C     72\n",
      "18  Student19  South High     C     70\n",
      "2    Student3  North High     D     64\n",
      "1    Student2  South High     F      6\n"
     ]
    }
   ],
   "source": [
    "# sort by descending\n",
    "\n",
    "print(df.sort_values(by=['Score'], ascending=False))"
   ]
  },
  {
   "cell_type": "code",
   "execution_count": null,
   "id": "2fc9eadf-c23d-4db3-a17b-2518c0e28c13",
   "metadata": {},
   "outputs": [],
   "source": [
    "# show st\n",
    "\n",
    "print(df[df[\"Score\"] > 80])"
   ]
  }
 ],
 "metadata": {
  "kernelspec": {
   "display_name": "Python 3 (ipykernel)",
   "language": "python",
   "name": "python3"
  },
  "language_info": {
   "codemirror_mode": {
    "name": "ipython",
    "version": 3
   },
   "file_extension": ".py",
   "mimetype": "text/x-python",
   "name": "python",
   "nbconvert_exporter": "python",
   "pygments_lexer": "ipython3",
   "version": "3.12.3"
  }
 },
 "nbformat": 4,
 "nbformat_minor": 5
}
